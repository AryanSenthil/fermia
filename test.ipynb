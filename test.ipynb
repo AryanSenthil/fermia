{
 "cells": [
  {
   "cell_type": "code",
   "execution_count": 1,
   "metadata": {},
   "outputs": [
    {
     "name": "stdout",
     "output_type": "stream",
     "text": [
      "<pyrealsense2.[video_]stream_profile: Depth(0) 640x480 @ 15fps Z16>\n",
      "<pyrealsense2.[video_]stream_profile: Color(0) 640x480 @ 15fps RGB8>\n",
      "<pyrealsense2.[video_]stream_profile: Depth(0) 640x480 @ 15fps Z16>\n",
      "<pyrealsense2.[video_]stream_profile: Color(0) 640x480 @ 15fps RGB8>\n",
      "<pyrealsense2.[video_]stream_profile: Depth(0) 640x480 @ 15fps Z16>\n",
      "<pyrealsense2.[video_]stream_profile: Color(0) 640x480 @ 15fps RGB8>\n",
      "<pyrealsense2.[video_]stream_profile: Depth(0) 640x480 @ 15fps Z16>\n",
      "<pyrealsense2.[video_]stream_profile: Color(0) 640x480 @ 15fps RGB8>\n",
      "<pyrealsense2.[video_]stream_profile: Depth(0) 640x480 @ 15fps Z16>\n",
      "<pyrealsense2.[video_]stream_profile: Color(0) 640x480 @ 15fps RGB8>\n",
      "<pyrealsense2.[video_]stream_profile: Depth(0) 640x480 @ 15fps Z16>\n",
      "<pyrealsense2.[video_]stream_profile: Color(0) 640x480 @ 15fps RGB8>\n",
      "<pyrealsense2.[video_]stream_profile: Depth(0) 640x480 @ 15fps Z16>\n",
      "<pyrealsense2.[video_]stream_profile: Color(0) 640x480 @ 15fps RGB8>\n",
      "<pyrealsense2.[video_]stream_profile: Depth(0) 640x480 @ 15fps Z16>\n",
      "<pyrealsense2.[video_]stream_profile: Color(0) 640x480 @ 15fps RGB8>\n",
      "<pyrealsense2.[video_]stream_profile: Depth(0) 640x480 @ 15fps Z16>\n",
      "<pyrealsense2.[video_]stream_profile: Color(0) 640x480 @ 15fps RGB8>\n",
      "<pyrealsense2.[video_]stream_profile: Depth(0) 640x480 @ 15fps Z16>\n",
      "<pyrealsense2.[video_]stream_profile: Color(0) 640x480 @ 15fps RGB8>\n",
      "<pyrealsense2.[video_]stream_profile: Depth(0) 640x480 @ 15fps Z16>\n",
      "<pyrealsense2.[video_]stream_profile: Color(0) 640x480 @ 15fps RGB8>\n",
      "<pyrealsense2.[video_]stream_profile: Depth(0) 640x480 @ 15fps Z16>\n",
      "<pyrealsense2.[video_]stream_profile: Color(0) 640x480 @ 15fps RGB8>\n",
      "<pyrealsense2.[video_]stream_profile: Depth(0) 640x480 @ 15fps Z16>\n",
      "<pyrealsense2.[video_]stream_profile: Color(0) 640x480 @ 15fps RGB8>\n",
      "<pyrealsense2.[video_]stream_profile: Depth(0) 640x480 @ 15fps Z16>\n",
      "<pyrealsense2.[video_]stream_profile: Color(0) 640x480 @ 15fps RGB8>\n",
      "<pyrealsense2.[video_]stream_profile: Depth(0) 640x480 @ 15fps Z16>\n",
      "<pyrealsense2.[video_]stream_profile: Color(0) 640x480 @ 15fps RGB8>\n",
      "<pyrealsense2.[video_]stream_profile: Depth(0) 640x480 @ 15fps Z16>\n",
      "<pyrealsense2.[video_]stream_profile: Color(0) 640x480 @ 15fps RGB8>\n",
      "<pyrealsense2.[video_]stream_profile: Depth(0) 640x480 @ 15fps Z16>\n",
      "<pyrealsense2.[video_]stream_profile: Color(0) 640x480 @ 15fps RGB8>\n",
      "<pyrealsense2.[video_]stream_profile: Depth(0) 640x480 @ 15fps Z16>\n",
      "<pyrealsense2.[video_]stream_profile: Color(0) 640x480 @ 15fps RGB8>\n",
      "<pyrealsense2.[video_]stream_profile: Depth(0) 640x480 @ 15fps Z16>\n",
      "<pyrealsense2.[video_]stream_profile: Color(0) 640x480 @ 15fps RGB8>\n",
      "<pyrealsense2.[video_]stream_profile: Depth(0) 640x480 @ 15fps Z16>\n",
      "<pyrealsense2.[video_]stream_profile: Color(0) 640x480 @ 15fps RGB8>\n",
      "<pyrealsense2.[video_]stream_profile: Depth(0) 640x480 @ 15fps Z16>\n",
      "<pyrealsense2.[video_]stream_profile: Color(0) 640x480 @ 15fps RGB8>\n",
      "<pyrealsense2.[video_]stream_profile: Depth(0) 640x480 @ 15fps Z16>\n",
      "<pyrealsense2.[video_]stream_profile: Color(0) 640x480 @ 15fps RGB8>\n",
      "<pyrealsense2.[video_]stream_profile: Depth(0) 640x480 @ 15fps Z16>\n",
      "<pyrealsense2.[video_]stream_profile: Color(0) 640x480 @ 15fps RGB8>\n",
      "<pyrealsense2.[video_]stream_profile: Depth(0) 640x480 @ 15fps Z16>\n",
      "<pyrealsense2.[video_]stream_profile: Color(0) 640x480 @ 15fps RGB8>\n",
      "<pyrealsense2.[video_]stream_profile: Depth(0) 640x480 @ 15fps Z16>\n",
      "<pyrealsense2.[video_]stream_profile: Color(0) 640x480 @ 15fps RGB8>\n",
      "<pyrealsense2.[video_]stream_profile: Depth(0) 640x480 @ 15fps Z16>\n",
      "<pyrealsense2.[video_]stream_profile: Color(0) 640x480 @ 15fps RGB8>\n",
      "<pyrealsense2.[video_]stream_profile: Depth(0) 640x480 @ 15fps Z16>\n",
      "<pyrealsense2.[video_]stream_profile: Color(0) 640x480 @ 15fps RGB8>\n",
      "<pyrealsense2.[video_]stream_profile: Depth(0) 640x480 @ 15fps Z16>\n",
      "<pyrealsense2.[video_]stream_profile: Color(0) 640x480 @ 15fps RGB8>\n",
      "<pyrealsense2.[video_]stream_profile: Depth(0) 640x480 @ 15fps Z16>\n",
      "<pyrealsense2.[video_]stream_profile: Color(0) 640x480 @ 15fps RGB8>\n",
      "<pyrealsense2.[video_]stream_profile: Depth(0) 640x480 @ 15fps Z16>\n",
      "<pyrealsense2.[video_]stream_profile: Color(0) 640x480 @ 15fps RGB8>\n",
      "<pyrealsense2.[video_]stream_profile: Depth(0) 640x480 @ 15fps Z16>\n",
      "<pyrealsense2.[video_]stream_profile: Color(0) 640x480 @ 15fps RGB8>\n",
      "<pyrealsense2.[video_]stream_profile: Depth(0) 640x480 @ 15fps Z16>\n",
      "<pyrealsense2.[video_]stream_profile: Color(0) 640x480 @ 15fps RGB8>\n",
      "<pyrealsense2.[video_]stream_profile: Depth(0) 640x480 @ 15fps Z16>\n",
      "<pyrealsense2.[video_]stream_profile: Color(0) 640x480 @ 15fps RGB8>\n",
      "<pyrealsense2.[video_]stream_profile: Depth(0) 640x480 @ 15fps Z16>\n",
      "<pyrealsense2.[video_]stream_profile: Color(0) 640x480 @ 15fps RGB8>\n",
      "<pyrealsense2.[video_]stream_profile: Depth(0) 640x480 @ 15fps Z16>\n",
      "<pyrealsense2.[video_]stream_profile: Color(0) 640x480 @ 15fps RGB8>\n",
      "<pyrealsense2.[video_]stream_profile: Depth(0) 640x480 @ 15fps Z16>\n",
      "<pyrealsense2.[video_]stream_profile: Color(0) 640x480 @ 15fps RGB8>\n",
      "<pyrealsense2.[video_]stream_profile: Depth(0) 640x480 @ 15fps Z16>\n",
      "<pyrealsense2.[video_]stream_profile: Color(0) 640x480 @ 15fps RGB8>\n",
      "<pyrealsense2.[video_]stream_profile: Depth(0) 640x480 @ 15fps Z16>\n",
      "<pyrealsense2.[video_]stream_profile: Color(0) 640x480 @ 15fps RGB8>\n",
      "<pyrealsense2.[video_]stream_profile: Depth(0) 640x480 @ 15fps Z16>\n",
      "<pyrealsense2.[video_]stream_profile: Color(0) 640x480 @ 15fps RGB8>\n",
      "<pyrealsense2.[video_]stream_profile: Depth(0) 640x480 @ 15fps Z16>\n",
      "<pyrealsense2.[video_]stream_profile: Color(0) 640x480 @ 15fps RGB8>\n",
      "<pyrealsense2.[video_]stream_profile: Depth(0) 640x480 @ 15fps Z16>\n",
      "<pyrealsense2.[video_]stream_profile: Color(0) 640x480 @ 15fps RGB8>\n",
      "<pyrealsense2.[video_]stream_profile: Depth(0) 640x480 @ 15fps Z16>\n",
      "<pyrealsense2.[video_]stream_profile: Color(0) 640x480 @ 15fps RGB8>\n",
      "<pyrealsense2.[video_]stream_profile: Depth(0) 640x480 @ 15fps Z16>\n",
      "<pyrealsense2.[video_]stream_profile: Color(0) 640x480 @ 15fps RGB8>\n",
      "<pyrealsense2.[video_]stream_profile: Depth(0) 640x480 @ 15fps Z16>\n",
      "<pyrealsense2.[video_]stream_profile: Color(0) 640x480 @ 15fps RGB8>\n",
      "<pyrealsense2.[video_]stream_profile: Depth(0) 640x480 @ 15fps Z16>\n",
      "<pyrealsense2.[video_]stream_profile: Color(0) 640x480 @ 15fps RGB8>\n",
      "<pyrealsense2.[video_]stream_profile: Depth(0) 640x480 @ 15fps Z16>\n",
      "<pyrealsense2.[video_]stream_profile: Color(0) 640x480 @ 15fps RGB8>\n",
      "<pyrealsense2.[video_]stream_profile: Depth(0) 640x480 @ 15fps Z16>\n",
      "<pyrealsense2.[video_]stream_profile: Color(0) 640x480 @ 15fps RGB8>\n",
      "<pyrealsense2.[video_]stream_profile: Depth(0) 640x480 @ 15fps Z16>\n",
      "<pyrealsense2.[video_]stream_profile: Color(0) 640x480 @ 15fps RGB8>\n",
      "<pyrealsense2.[video_]stream_profile: Depth(0) 640x480 @ 15fps Z16>\n",
      "<pyrealsense2.[video_]stream_profile: Color(0) 640x480 @ 15fps RGB8>\n",
      "<pyrealsense2.[video_]stream_profile: Depth(0) 640x480 @ 15fps Z16>\n",
      "<pyrealsense2.[video_]stream_profile: Color(0) 640x480 @ 15fps RGB8>\n",
      "<pyrealsense2.[video_]stream_profile: Depth(0) 640x480 @ 15fps Z16>\n",
      "<pyrealsense2.[video_]stream_profile: Color(0) 640x480 @ 15fps RGB8>\n",
      "<pyrealsense2.[video_]stream_profile: Depth(0) 640x480 @ 15fps Z16>\n",
      "<pyrealsense2.[video_]stream_profile: Color(0) 640x480 @ 15fps RGB8>\n",
      "<pyrealsense2.[video_]stream_profile: Depth(0) 640x480 @ 15fps Z16>\n",
      "<pyrealsense2.[video_]stream_profile: Color(0) 640x480 @ 15fps RGB8>\n",
      "<pyrealsense2.[video_]stream_profile: Depth(0) 640x480 @ 15fps Z16>\n",
      "<pyrealsense2.[video_]stream_profile: Color(0) 640x480 @ 15fps RGB8>\n",
      "<pyrealsense2.[video_]stream_profile: Depth(0) 640x480 @ 15fps Z16>\n",
      "<pyrealsense2.[video_]stream_profile: Color(0) 640x480 @ 15fps RGB8>\n",
      "<pyrealsense2.[video_]stream_profile: Depth(0) 640x480 @ 15fps Z16>\n",
      "<pyrealsense2.[video_]stream_profile: Color(0) 640x480 @ 15fps RGB8>\n",
      "<pyrealsense2.[video_]stream_profile: Depth(0) 640x480 @ 15fps Z16>\n",
      "<pyrealsense2.[video_]stream_profile: Color(0) 640x480 @ 15fps RGB8>\n",
      "<pyrealsense2.[video_]stream_profile: Depth(0) 640x480 @ 15fps Z16>\n",
      "<pyrealsense2.[video_]stream_profile: Color(0) 640x480 @ 15fps RGB8>\n",
      "<pyrealsense2.[video_]stream_profile: Depth(0) 640x480 @ 15fps Z16>\n",
      "<pyrealsense2.[video_]stream_profile: Color(0) 640x480 @ 15fps RGB8>\n",
      "<pyrealsense2.[video_]stream_profile: Depth(0) 640x480 @ 15fps Z16>\n",
      "<pyrealsense2.[video_]stream_profile: Color(0) 640x480 @ 15fps RGB8>\n",
      "<pyrealsense2.[video_]stream_profile: Depth(0) 640x480 @ 15fps Z16>\n",
      "<pyrealsense2.[video_]stream_profile: Color(0) 640x480 @ 15fps RGB8>\n",
      "<pyrealsense2.[video_]stream_profile: Depth(0) 640x480 @ 15fps Z16>\n",
      "<pyrealsense2.[video_]stream_profile: Color(0) 640x480 @ 15fps RGB8>\n",
      "<pyrealsense2.[video_]stream_profile: Depth(0) 640x480 @ 15fps Z16>\n",
      "<pyrealsense2.[video_]stream_profile: Color(0) 640x480 @ 15fps RGB8>\n",
      "<pyrealsense2.[video_]stream_profile: Depth(0) 640x480 @ 15fps Z16>\n",
      "<pyrealsense2.[video_]stream_profile: Color(0) 640x480 @ 15fps RGB8>\n",
      "<pyrealsense2.[video_]stream_profile: Depth(0) 640x480 @ 15fps Z16>\n",
      "<pyrealsense2.[video_]stream_profile: Color(0) 640x480 @ 15fps RGB8>\n",
      "<pyrealsense2.[video_]stream_profile: Depth(0) 640x480 @ 15fps Z16>\n",
      "<pyrealsense2.[video_]stream_profile: Color(0) 640x480 @ 15fps RGB8>\n",
      "<pyrealsense2.[video_]stream_profile: Depth(0) 640x480 @ 15fps Z16>\n",
      "<pyrealsense2.[video_]stream_profile: Color(0) 640x480 @ 15fps RGB8>\n",
      "<pyrealsense2.[video_]stream_profile: Depth(0) 640x480 @ 15fps Z16>\n",
      "<pyrealsense2.[video_]stream_profile: Color(0) 640x480 @ 15fps RGB8>\n",
      "<pyrealsense2.[video_]stream_profile: Depth(0) 640x480 @ 15fps Z16>\n",
      "<pyrealsense2.[video_]stream_profile: Color(0) 640x480 @ 15fps RGB8>\n",
      "<pyrealsense2.[video_]stream_profile: Depth(0) 640x480 @ 15fps Z16>\n",
      "<pyrealsense2.[video_]stream_profile: Color(0) 640x480 @ 15fps RGB8>\n",
      "<pyrealsense2.[video_]stream_profile: Depth(0) 640x480 @ 15fps Z16>\n",
      "<pyrealsense2.[video_]stream_profile: Color(0) 640x480 @ 15fps RGB8>\n",
      "<pyrealsense2.[video_]stream_profile: Depth(0) 640x480 @ 15fps Z16>\n",
      "<pyrealsense2.[video_]stream_profile: Color(0) 640x480 @ 15fps RGB8>\n",
      "<pyrealsense2.[video_]stream_profile: Depth(0) 640x480 @ 15fps Z16>\n",
      "<pyrealsense2.[video_]stream_profile: Color(0) 640x480 @ 15fps RGB8>\n",
      "<pyrealsense2.[video_]stream_profile: Depth(0) 640x480 @ 15fps Z16>\n",
      "<pyrealsense2.[video_]stream_profile: Color(0) 640x480 @ 15fps RGB8>\n",
      "<pyrealsense2.[video_]stream_profile: Depth(0) 640x480 @ 15fps Z16>\n",
      "<pyrealsense2.[video_]stream_profile: Color(0) 640x480 @ 15fps RGB8>\n",
      "<pyrealsense2.[video_]stream_profile: Depth(0) 640x480 @ 15fps Z16>\n",
      "<pyrealsense2.[video_]stream_profile: Color(0) 640x480 @ 15fps RGB8>\n",
      "<pyrealsense2.[video_]stream_profile: Depth(0) 640x480 @ 15fps Z16>\n",
      "<pyrealsense2.[video_]stream_profile: Color(0) 640x480 @ 15fps RGB8>\n",
      "<pyrealsense2.[video_]stream_profile: Depth(0) 640x480 @ 15fps Z16>\n",
      "<pyrealsense2.[video_]stream_profile: Color(0) 640x480 @ 15fps RGB8>\n",
      "<pyrealsense2.[video_]stream_profile: Depth(0) 640x480 @ 15fps Z16>\n",
      "<pyrealsense2.[video_]stream_profile: Color(0) 640x480 @ 15fps RGB8>\n",
      "<pyrealsense2.[video_]stream_profile: Depth(0) 640x480 @ 15fps Z16>\n",
      "<pyrealsense2.[video_]stream_profile: Color(0) 640x480 @ 15fps RGB8>\n",
      "<pyrealsense2.[video_]stream_profile: Depth(0) 640x480 @ 15fps Z16>\n",
      "<pyrealsense2.[video_]stream_profile: Color(0) 640x480 @ 15fps RGB8>\n",
      "<pyrealsense2.[video_]stream_profile: Depth(0) 640x480 @ 15fps Z16>\n",
      "<pyrealsense2.[video_]stream_profile: Color(0) 640x480 @ 15fps RGB8>\n",
      "<pyrealsense2.[video_]stream_profile: Depth(0) 640x480 @ 15fps Z16>\n",
      "<pyrealsense2.[video_]stream_profile: Color(0) 640x480 @ 15fps RGB8>\n",
      "<pyrealsense2.[video_]stream_profile: Depth(0) 640x480 @ 15fps Z16>\n",
      "<pyrealsense2.[video_]stream_profile: Color(0) 640x480 @ 15fps RGB8>\n",
      "<pyrealsense2.[video_]stream_profile: Depth(0) 640x480 @ 15fps Z16>\n",
      "<pyrealsense2.[video_]stream_profile: Color(0) 640x480 @ 15fps RGB8>\n",
      "<pyrealsense2.[video_]stream_profile: Depth(0) 640x480 @ 15fps Z16>\n",
      "<pyrealsense2.[video_]stream_profile: Color(0) 640x480 @ 15fps RGB8>\n",
      "<pyrealsense2.[video_]stream_profile: Depth(0) 640x480 @ 15fps Z16>\n",
      "<pyrealsense2.[video_]stream_profile: Color(0) 640x480 @ 15fps RGB8>\n",
      "<pyrealsense2.[video_]stream_profile: Depth(0) 640x480 @ 15fps Z16>\n",
      "<pyrealsense2.[video_]stream_profile: Color(0) 640x480 @ 15fps RGB8>\n",
      "<pyrealsense2.[video_]stream_profile: Depth(0) 640x480 @ 15fps Z16>\n",
      "<pyrealsense2.[video_]stream_profile: Color(0) 640x480 @ 15fps RGB8>\n",
      "<pyrealsense2.[video_]stream_profile: Depth(0) 640x480 @ 15fps Z16>\n",
      "<pyrealsense2.[video_]stream_profile: Color(0) 640x480 @ 15fps RGB8>\n",
      "<pyrealsense2.[video_]stream_profile: Depth(0) 640x480 @ 15fps Z16>\n",
      "<pyrealsense2.[video_]stream_profile: Color(0) 640x480 @ 15fps RGB8>\n",
      "<pyrealsense2.[video_]stream_profile: Depth(0) 640x480 @ 15fps Z16>\n",
      "<pyrealsense2.[video_]stream_profile: Color(0) 640x480 @ 15fps RGB8>\n",
      "<pyrealsense2.[video_]stream_profile: Depth(0) 640x480 @ 15fps Z16>\n",
      "<pyrealsense2.[video_]stream_profile: Color(0) 640x480 @ 15fps RGB8>\n",
      "<pyrealsense2.[video_]stream_profile: Depth(0) 640x480 @ 15fps Z16>\n",
      "<pyrealsense2.[video_]stream_profile: Color(0) 640x480 @ 15fps RGB8>\n",
      "<pyrealsense2.[video_]stream_profile: Depth(0) 640x480 @ 15fps Z16>\n",
      "<pyrealsense2.[video_]stream_profile: Color(0) 640x480 @ 15fps RGB8>\n",
      "<pyrealsense2.[video_]stream_profile: Depth(0) 640x480 @ 15fps Z16>\n",
      "<pyrealsense2.[video_]stream_profile: Color(0) 640x480 @ 15fps RGB8>\n",
      "<pyrealsense2.[video_]stream_profile: Depth(0) 640x480 @ 15fps Z16>\n",
      "<pyrealsense2.[video_]stream_profile: Color(0) 640x480 @ 15fps RGB8>\n",
      "<pyrealsense2.[video_]stream_profile: Depth(0) 640x480 @ 15fps Z16>\n",
      "<pyrealsense2.[video_]stream_profile: Color(0) 640x480 @ 15fps RGB8>\n",
      "<pyrealsense2.[video_]stream_profile: Depth(0) 640x480 @ 15fps Z16>\n",
      "<pyrealsense2.[video_]stream_profile: Color(0) 640x480 @ 15fps RGB8>\n",
      "<pyrealsense2.[video_]stream_profile: Depth(0) 640x480 @ 15fps Z16>\n",
      "<pyrealsense2.[video_]stream_profile: Color(0) 640x480 @ 15fps RGB8>\n"
     ]
    }
   ],
   "source": [
    "import pyrealsense2 as rs\n",
    "pipe = rs.pipeline()\n",
    "profile = pipe.start()\n",
    "try:\n",
    "  for i in range(0, 100):\n",
    "    frames = pipe.wait_for_frames()\n",
    "    for f in frames:\n",
    "      print(f.profile)\n",
    "finally:\n",
    "    pipe.stop()"
   ]
  },
  {
   "cell_type": "code",
   "execution_count": 1,
   "metadata": {},
   "outputs": [],
   "source": [
    "import fermia_camera"
   ]
  },
  {
   "cell_type": "code",
   "execution_count": 2,
   "metadata": {},
   "outputs": [],
   "source": [
    "img = fermia_camera.get_image()"
   ]
  },
  {
   "cell_type": "code",
   "execution_count": 3,
   "metadata": {},
   "outputs": [
    {
     "data": {
      "text/plain": [
       "array([[[ 67,  62,  64],\n",
       "        [ 71,  66,  68],\n",
       "        [ 77,  72,  73],\n",
       "        ...,\n",
       "        [251, 255, 255],\n",
       "        [251, 255, 255],\n",
       "        [251, 255, 255]],\n",
       "\n",
       "       [[ 70,  67,  69],\n",
       "        [ 71,  69,  69],\n",
       "        [ 74,  72,  72],\n",
       "        ...,\n",
       "        [251, 255, 255],\n",
       "        [251, 255, 255],\n",
       "        [251, 255, 255]],\n",
       "\n",
       "       [[ 70,  72,  72],\n",
       "        [ 69,  71,  71],\n",
       "        [ 70,  70,  70],\n",
       "        ...,\n",
       "        [251, 255, 255],\n",
       "        [251, 255, 255],\n",
       "        [251, 255, 255]],\n",
       "\n",
       "       ...,\n",
       "\n",
       "       [[ 35,  57,  75],\n",
       "        [ 33,  55,  73],\n",
       "        [ 31,  53,  71],\n",
       "        ...,\n",
       "        [ 99, 148,  98],\n",
       "        [ 95, 144,  94],\n",
       "        [ 95, 144,  92]],\n",
       "\n",
       "       [[ 38,  57,  78],\n",
       "        [ 33,  54,  75],\n",
       "        [ 31,  52,  73],\n",
       "        ...,\n",
       "        [ 93, 144,  94],\n",
       "        [ 93, 142,  92],\n",
       "        [ 97, 146,  94]],\n",
       "\n",
       "       [[ 37,  56,  77],\n",
       "        [ 34,  53,  74],\n",
       "        [ 29,  50,  71],\n",
       "        ...,\n",
       "        [ 95, 146,  96],\n",
       "        [ 96, 145,  95],\n",
       "        [103, 152, 100]]], shape=(720, 1280, 3), dtype=uint8)"
      ]
     },
     "execution_count": 3,
     "metadata": {},
     "output_type": "execute_result"
    }
   ],
   "source": [
    "img"
   ]
  },
  {
   "cell_type": "code",
   "execution_count": 4,
   "metadata": {},
   "outputs": [],
   "source": [
    "import cv2 \n",
    "cv2.imshow(\"Fermia Camera Image\", img)\n",
    "cv2.waitKey(0)  # Wait for a key press to close the window\n",
    "cv2.destroyAllWindows()\n"
   ]
  },
  {
   "cell_type": "code",
   "execution_count": 3,
   "metadata": {},
   "outputs": [],
   "source": [
    "from control import Program"
   ]
  },
  {
   "cell_type": "code",
   "execution_count": 4,
   "metadata": {},
   "outputs": [],
   "source": [
    "pro = Program()"
   ]
  },
  {
   "cell_type": "code",
   "execution_count": 5,
   "metadata": {},
   "outputs": [],
   "source": [
    "pro.connect()"
   ]
  },
  {
   "cell_type": "code",
   "execution_count": 8,
   "metadata": {},
   "outputs": [
    {
     "name": "stdout",
     "output_type": "stream",
     "text": [
      " * Serving Flask app 'camera_stream'\n",
      " * Debug mode: off\n"
     ]
    },
    {
     "name": "stderr",
     "output_type": "stream",
     "text": [
      "Address already in use\n",
      "Port 5000 is in use by another program. Either identify and stop that program, or start the server with a different port.\n",
      "terminate called without an active exception\n"
     ]
    },
    {
     "data": {
      "text/plain": [
       "<Popen: returncode: None args: ['python3', '/home/arisenthil/fermia/camera_s...>"
      ]
     },
     "execution_count": 8,
     "metadata": {},
     "output_type": "execute_result"
    }
   ],
   "source": [
    "from control import Program \n",
    "\n",
    "pro = Program()\n",
    "pro.connect()\n",
    "pro.spawn_command([\"python3\", \"/home/arisenthil/fermia/camera_stream.py\"])"
   ]
  },
  {
   "cell_type": "code",
   "execution_count": 2,
   "metadata": {},
   "outputs": [
    {
     "name": "stdout",
     "output_type": "stream",
     "text": [
      "Starting depth stream web server. Access the stream at:\n",
      "- Local:   http://localhost:5000\n",
      "- Network: http://<your-ip-address>:5000\n",
      " * Serving Flask app 'depth_stream'\n",
      " * Debug mode: off\n"
     ]
    },
    {
     "name": "stderr",
     "output_type": "stream",
     "text": [
      "WARNING: This is a development server. Do not use it in a production deployment. Use a production WSGI server instead.\n",
      " * Running on all addresses (0.0.0.0)\n",
      " * Running on http://127.0.0.1:5001\n",
      " * Running on http://10.0.0.184:5001\n",
      "Press CTRL+C to quit\n"
     ]
    },
    {
     "data": {
      "text/plain": [
       "<Popen: returncode: None args: ['python3', '/home/arisenthil/fermia/depth_st...>"
      ]
     },
     "execution_count": 2,
     "metadata": {},
     "output_type": "execute_result"
    },
    {
     "name": "stderr",
     "output_type": "stream",
     "text": [
      "127.0.0.1 - - [22/Mar/2025 02:52:24] \"GET / HTTP/1.1\" 200 -\n",
      "127.0.0.1 - - [22/Mar/2025 02:52:24] \"GET /video_feed HTTP/1.1\" 200 -\n",
      "127.0.0.1 - - [22/Mar/2025 02:52:27] \"GET / HTTP/1.1\" 200 -\n",
      "127.0.0.1 - - [22/Mar/2025 02:52:27] \"GET /video_feed HTTP/1.1\" 200 -\n"
     ]
    }
   ],
   "source": [
    "from control import Program \n",
    "\n",
    "pro = Program()\n",
    "pro.connect()\n",
    "pro.spawn_command([\"python3\", \"/home/arisenthil/fermia/depth_stream.py\"])"
   ]
  },
  {
   "cell_type": "code",
   "execution_count": 5,
   "metadata": {},
   "outputs": [],
   "source": [
    "prompt = \"what do you see\""
   ]
  },
  {
   "cell_type": "code",
   "execution_count": 11,
   "metadata": {},
   "outputs": [],
   "source": [
    "from control import Program\n",
    "\n",
    "pro = Program()\n",
    "\n",
    "pro.connect()\n",
    "prompt = \"is it dark\"\n",
    "\n",
    "command = f'python3 /home/arisenthil/fermia/bakllava_vision.py \"{prompt}\"'\n",
    "response = pro.run_program(command)"
   ]
  },
  {
   "cell_type": "code",
   "execution_count": 12,
   "metadata": {},
   "outputs": [
    {
     "name": "stdout",
     "output_type": "stream",
     "text": [
      " Yes\n",
      "\n"
     ]
    }
   ],
   "source": [
    "print(response)"
   ]
  },
  {
   "cell_type": "code",
   "execution_count": 10,
   "metadata": {},
   "outputs": [
    {
     "name": "stdout",
     "output_type": "stream",
     "text": [
      "My device IP is: 10.0.0.184\n"
     ]
    }
   ],
   "source": [
    "import socket\n",
    "\n",
    "# Get the hostname\n",
    "hostname = socket.gethostname()\n",
    "\n",
    "# Get the IP address\n",
    "device_ip = socket.gethostbyname(hostname)\n",
    "\n",
    "print(f\"My device IP is: {device_ip}\")\n"
   ]
  },
  {
   "cell_type": "code",
   "execution_count": null,
   "metadata": {},
   "outputs": [],
   "source": []
  },
  {
   "cell_type": "code",
   "execution_count": null,
   "metadata": {},
   "outputs": [],
   "source": []
  }
 ],
 "metadata": {
  "kernelspec": {
   "display_name": ".venv",
   "language": "python",
   "name": "python3"
  },
  "language_info": {
   "codemirror_mode": {
    "name": "ipython",
    "version": 3
   },
   "file_extension": ".py",
   "mimetype": "text/x-python",
   "name": "python",
   "nbconvert_exporter": "python",
   "pygments_lexer": "ipython3",
   "version": "3.10.12"
  }
 },
 "nbformat": 4,
 "nbformat_minor": 2
}
